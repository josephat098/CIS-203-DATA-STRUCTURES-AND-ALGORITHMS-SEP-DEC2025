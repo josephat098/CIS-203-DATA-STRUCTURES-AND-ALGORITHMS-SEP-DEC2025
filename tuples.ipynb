{
 "cells": [
  {
   "cell_type": "code",
   "execution_count": null,
   "id": "a1daea50",
   "metadata": {},
   "outputs": [],
   "source": [
    "# Create a tuple for a patient\n",
    "patient = (\"josephat opiyo\", 45, \"120/80\", 72)\n",
    "\n",
    "# Access and print the patient's age and heart rate\n",
    "print(\"Age:\", patient[1])\n",
    "print(\"Heart Rate:\", patient[3])\n",
    "\n",
    "# Why tuples are suitable for storing patient vitals\n",
    "print(\"\\nTuples are suitable for storing patient vitals because:\")\n",
    "print(\"- They are immutable, ensuring data integrity.\")\n",
    "print(\"- They group related data in a fixed structure.\")\n",
    "print(\"- They are memory-efficient and fast to access.\")\n",
    "\n",
    "#  Convert tuple to list, update heart rate, convert back to tuple\n",
    "patient_list = list(patient)\n",
    "patient_list[3] = 75  # Update heart rate\n",
    "updated_patient = tuple(patient_list)\n",
    "print(\"\\nUpdated Patient Tuple:\", updated_patient)\n",
    "\n",
    "# Create a tuple of 5 patients and extract all names\n",
    "patients = (\n",
    "    (\"james\", 30, \"110/70\", 68),\n",
    "    (\"Bromick\", 50, \"130/85\", 80),\n",
    "    (\"Carol\", 40, \"125/78\", 74),\n",
    "    (\"David\", 35, \"118/76\", 70),\n",
    "    (\"oleko\", 60, \"140/90\", 82)\n",
    ")\n",
    "\n",
    "# Extract all names using list comprehension\n",
    "names = [p[0] for p in patients]\n",
    "print(\"\\nPatient Names:\", names)\n"
   ]
  }
 ],
 "metadata": {
  "language_info": {
   "name": "python"
  }
 },
 "nbformat": 4,
 "nbformat_minor": 5
}
