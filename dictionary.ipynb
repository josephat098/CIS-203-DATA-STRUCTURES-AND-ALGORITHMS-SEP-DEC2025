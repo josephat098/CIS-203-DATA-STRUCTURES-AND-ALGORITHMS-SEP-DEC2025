{
 "cells": [
  {
   "cell_type": "code",
   "execution_count": 1,
   "id": "852da782",
   "metadata": {},
   "outputs": [
    {
     "name": "stdout",
     "output_type": "stream",
     "text": [
      " Updated Inventory:\n",
      "{'Laptop': 15, 'Smartphone': 10, 'Headphones': 25, 'Keyboard': 12, 'Mouse': 18}\n",
      "\n",
      " Product List:\n",
      "- Laptop: 15 units\n",
      "- Smartphone: 10 units\n",
      "- Headphones: 25 units\n",
      "- Keyboard: 12 units\n",
      "- Mouse: 18 units\n",
      "\n",
      "Products with Low Stock (<10):\n",
      "[]\n"
     ]
    }
   ],
   "source": [
    "#  Create a dictionary with 5 products and their stock quantities\n",
    "inventory = {\n",
    "    \"Laptop\": 15,\n",
    "    \"Smartphone\": 8,\n",
    "    \"Headphones\": 25,\n",
    "    \"Charger\": 5,\n",
    "    \"Keyboard\": 12\n",
    "}\n",
    "\n",
    "#  Add a new product and update the quantity of an existing one\n",
    "inventory[\"Mouse\"] = 18               # Add new product\n",
    "inventory[\"Smartphone\"] = 10          # Update existing product quantity\n",
    "\n",
    "#  Function to return products with stock less than 10\n",
    "def low_stock_items(inv):\n",
    "    return [product for product, qty in inv.items() if qty < 10]\n",
    "\n",
    "#  Delete a discontinued product and display updated dictionary\n",
    "discontinued = \"Charger\"\n",
    "if discontinued in inventory:\n",
    "    del inventory[discontinued]\n",
    "\n",
    "print(\" Updated Inventory:\")\n",
    "print(inventory)\n",
    "\n",
    "#  Use .items() to loop through and print each product with its quantity\n",
    "print(\"\\n Product List:\")\n",
    "for product, quantity in inventory.items():\n",
    "    print(f\"- {product}: {quantity} units\")\n",
    "\n",
    "#  Show low stock items\n",
    "print(\"\\nProducts with Low Stock (<10):\")\n",
    "print(low_stock_items(inventory))\n"
   ]
  }
 ],
 "metadata": {
  "kernelspec": {
   "display_name": "base",
   "language": "python",
   "name": "python3"
  },
  "language_info": {
   "codemirror_mode": {
    "name": "ipython",
    "version": 3
   },
   "file_extension": ".py",
   "mimetype": "text/x-python",
   "name": "python",
   "nbconvert_exporter": "python",
   "pygments_lexer": "ipython3",
   "version": "3.12.7"
  }
 },
 "nbformat": 4,
 "nbformat_minor": 5
}
