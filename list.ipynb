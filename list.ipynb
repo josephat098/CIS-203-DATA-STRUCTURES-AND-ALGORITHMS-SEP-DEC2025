{
 "cells": [
  {
   "cell_type": "code",
   "execution_count": null,
   "id": "921aadab",
   "metadata": {},
   "outputs": [],
   "source": [
    "routes_list=['kisumu','nairobi','kissii','kericho','voi','malindi','vihiga','busia','homabay','taveta']\n",
    "routes_list.append('nakuru')\n",
    "routes_list.remove('voi')\n",
    "sorted_routes=sorted(routes_list)\n",
    "print(sorted_routes)\n",
    "reversed_routes=sorted_routes[::-1]\n",
    "print(reversed_routes)\n",
    "count_routes=sum(route.startswith('n') for route in routes_list)\n",
    "print(count_routes)\n",
    "routes = [\n",
    "    \"Nairobi to Kisumu\",\n",
    "    \"Eldoret\",\n",
    "    \"Kakamega to Bungoma\",\n",
    "    \"Kitale\",\n",
    "    \"Mombasa to Malindi\"\n",
    "]\n",
    "\n",
    "# List comprehension to filter routes longer than 10 characters\n",
    "long_routes = [route for route in routes if len(route) > 10]\n",
    "print(long_routes)\n",
    "\n",
    "print(routes_list)"
   ]
  }
 ],
 "metadata": {
  "language_info": {
   "name": "python"
  }
 },
 "nbformat": 4,
 "nbformat_minor": 5
}
