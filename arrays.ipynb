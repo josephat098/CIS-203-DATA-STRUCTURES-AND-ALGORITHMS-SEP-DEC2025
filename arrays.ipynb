{
 "cells": [
  {
   "cell_type": "code",
   "execution_count": null,
   "id": "06c7ae9a",
   "metadata": {},
   "outputs": [],
   "source": [
    "\n",
    "\n",
    "# 2D array: 4 branches × 6 months\n",
    "# Each row = branch, each column = month\n",
    "transactions = np.array([\n",
    "    [120, 135, 150, 160, 145, 155],\n",
    "    [100, 110, 105, 115, 120, 125],\n",
    "    [130, 140, 135, 145, 150, 155],\n",
    "    [90, 95, 100, 105, 110, 115]\n",
    "])\n",
    "\n",
    "print(\"Original Transaction Array (4x6):\\n\", transactions)\n",
    "\n",
    "\n",
    "branch_totals = np.sum(transactions, axis=1)\n",
    "print(\"\\nTotal Transactions per Branch:\\n\", branch_totals)\n",
    "\n",
    "\n",
    "highest_branch_index = np.argmax(branch_totals)\n",
    "print(f\"\\nBranch with Highest Total Transactions: Branch {highest_branch_index + 1}\")\n",
    "\n",
    "\n",
    "monthly_average = np.mean(transactions, axis=0)\n",
    "print(\"\\nAverage Monthly Transaction Volume Across All Branches:\\n\", monthly_average)\n",
    "\n",
    "\n",
    "reshaped = transactions.reshape(3, 8)\n",
    "print(\"\\nReshaped Array (3x8):\\n\", reshaped)\n",
    "\n",
    "print(\"\\nImplications of Reshaping:\")\n",
    "print(\"- Original shape was 4 branches × 6 months = 24 data points.\")\n",
    "print(\"- Reshaping to 3×8 keeps the same total elements but changes the interpretation.\")\n",
    "print(\"- Rows and columns no longer represent branches and months directly.\")\n",
    "print(\"- Useful for matrix operations or feeding into models expecting different input shapes.\")\n"
   ]
  }
 ],
 "metadata": {
  "language_info": {
   "name": "python"
  }
 },
 "nbformat": 4,
 "nbformat_minor": 5
}
